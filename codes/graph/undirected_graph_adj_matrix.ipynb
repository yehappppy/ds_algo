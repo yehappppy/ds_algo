{
 "cells": [
  {
   "cell_type": "code",
   "execution_count": 1,
   "metadata": {},
   "outputs": [],
   "source": [
    "class Graph:\n",
    "    def __init__(self, num_vertices):\n",
    "        self.num_vertices = num_vertices\n",
    "        self.adj_matrix = [[0] * num_vertices for _ in range(num_vertices)]\n",
    "\n",
    "    def add_edge(self, v1, v2):\n",
    "        if v1 < self.num_vertices and v2 < self.num_vertices:\n",
    "            self.adj_matrix[v1][v2] = 1\n",
    "            self.adj_matrix[v2][v1] = 1\n",
    "\n",
    "    def display(self):\n",
    "        print(3*' ', end='')\n",
    "        for i in range(self.num_vertices):\n",
    "            print(chr(i + 65), end='  ')\n",
    "        print()\n",
    "        for i in range(self.num_vertices):\n",
    "            print(chr(i + 65), self.adj_matrix[i])\n",
    "\n",
    "    def bfs(self, index):\n",
    "        res = []\n",
    "        visited = {index}\n",
    "        queue = [index]\n",
    "        \n",
    "        while queue:\n",
    "            temp = queue.pop(0)\n",
    "            res.append(chr(temp + 65))\n",
    "            for j in range(self.num_vertices):\n",
    "                if self.adj_matrix[temp][j] == 1 and j not in visited:\n",
    "                    queue.append(j)\n",
    "                    visited.add(j)\n",
    "        \n",
    "        return res\n",
    "\n",
    "    def dfs_iterative(self, index):\n",
    "        res = []\n",
    "        visited = {index}\n",
    "        stack = [index]\n",
    "        \n",
    "        while stack:\n",
    "            temp = stack.pop()\n",
    "            res.append(chr(temp + 65))\n",
    "            for j in range(self.num_vertices - 1, -1, -1):\n",
    "                if self.adj_matrix[temp][j] == 1 and j not in visited:\n",
    "                    stack.append(j)\n",
    "                    visited.add(j)\n",
    "        \n",
    "        return res\n",
    "    \n",
    "    def dfs_recursive(self, index):\n",
    "        return self._dfs_recursive(index, [], {index})\n",
    "\n",
    "    def _dfs_recursive(self, index, res, visited):\n",
    "        res.append(chr(index + 65))\n",
    "        for j in range(self.num_vertices):\n",
    "            if self.adj_matrix[index][j] == 1 and j not in visited:\n",
    "                visited.add(j)\n",
    "                self._dfs_recursive(j, res, visited)\n",
    "        return res\n",
    "    \n",
    "    def is_bipartite(self):\n",
    "        red = set()\n",
    "        blue = set()\n",
    "        visited = set()\n",
    "        \n",
    "        for vertex in range(self.num_vertices):\n",
    "            if vertex not in visited:\n",
    "                visited.add(vertex)\n",
    "                red.add(vertex)\n",
    "                queue = [vertex]\n",
    "        \n",
    "                while queue:\n",
    "                    temp = queue.pop()\n",
    "                    for j in range(self.num_vertices):\n",
    "                        if self.adj_matrix[temp][j] == 1:\n",
    "                            if j not in visited:\n",
    "                                queue.append(j)\n",
    "                                visited.add(j)\n",
    "                                if temp in red:\n",
    "                                    blue.add(j)\n",
    "                                else:\n",
    "                                    red.add(j)\n",
    "                            else:\n",
    "                                if temp in red and j in red:\n",
    "                                    return False\n",
    "                                elif temp in blue and j in blue:\n",
    "                                    return False\n",
    "                                        \n",
    "        return True\n",
    "    \n",
    "    def has_cycle(self):\n",
    "        visited = set()\n",
    "        stack = []\n",
    "        for vertex in range(self.num_vertices):\n",
    "            if vertex not in visited:\n",
    "                if self.dfs_cycle_detection(vertex, visited, stack):\n",
    "                    return True\n",
    "        return False\n",
    "                \n",
    "    def dfs_cycle_detection(self, vertex, visited, stack):\n",
    "        visited.add(vertex)\n",
    "        stack.append(vertex)\n",
    "        \n",
    "        for j in range(self.num_vertices):\n",
    "            if self.adj_matrix[vertex][j] == 1:\n",
    "                if j not in visited:\n",
    "                    if self.dfs_cycle_detection(j, visited, stack):\n",
    "                        return True\n",
    "                # if visited neighbor is the former vertex, pass\n",
    "                # if visited neighbor is not former vertex, cycle\n",
    "                elif j != stack[-2]:\n",
    "                    return True\n",
    "        \n",
    "        stack.pop()\n",
    "        return False"
   ]
  },
  {
   "cell_type": "markdown",
   "metadata": {},
   "source": [
    "# bfs"
   ]
  },
  {
   "cell_type": "code",
   "execution_count": 2,
   "metadata": {},
   "outputs": [
    {
     "name": "stdout",
     "output_type": "stream",
     "text": [
      "Index: 0\n",
      "Name: Alice, Age: 25, City: New York\n",
      "-----------------------\n",
      "Index: 1\n",
      "Name: Bob, Age: 30, City: Los Angeles\n",
      "-----------------------\n",
      "Index: 2\n",
      "Name: Charlie, Age: 35, City: Chicago\n",
      "-----------------------\n"
     ]
    },
    {
     "data": {
      "text/plain": [
       "'Charlie'"
      ]
     },
     "execution_count": 2,
     "metadata": {},
     "output_type": "execute_result"
    }
   ],
   "source": [
    "# 导入pandas库\n",
    "import pandas as pd\n",
    "\n",
    "# 创建一个DataFrame\n",
    "data = {\n",
    "    'Name': ['Alice', 'Bob', 'Charlie'],\n",
    "    'Age': [25, 30, 35],\n",
    "    'City': ['New York', 'Los Angeles', 'Chicago']\n",
    "}\n",
    "df = pd.DataFrame(data)\n",
    "\n",
    "# 使用iterrows()方法遍历DataFrame中的行\n",
    "for index, row in df.iterrows():\n",
    "    print(f'Index: {index}')\n",
    "    print(f'Name: {row[\"Name\"]}, Age: {row[\"Age\"]}, City: {row[\"City\"]}')\n",
    "    print('-----------------------')\n",
    "    dic = row.to_dict()\n",
    "dic.get('Name')"
   ]
  },
  {
   "cell_type": "code",
   "execution_count": 3,
   "metadata": {},
   "outputs": [],
   "source": [
    "# graph = {\n",
    "#   'A' : ['B','C'],\n",
    "#   'B' : ['D', 'E', 'F'],\n",
    "#   'C' : ['G'],\n",
    "#   'D' : [],\n",
    "#   'E' : [],\n",
    "#   'F' : ['H'],\n",
    "#   'G' : ['I'],\n",
    "#   'H' : [],\n",
    "#   'I' : []\n",
    "# }"
   ]
  },
  {
   "cell_type": "code",
   "execution_count": 4,
   "metadata": {},
   "outputs": [
    {
     "name": "stdout",
     "output_type": "stream",
     "text": [
      "   A  B  C  D  E  F  G  H  I  \n",
      "A [0, 1, 1, 0, 0, 0, 0, 0, 0]\n",
      "B [1, 0, 0, 1, 1, 1, 0, 0, 0]\n",
      "C [1, 0, 0, 0, 0, 0, 1, 0, 0]\n",
      "D [0, 1, 0, 0, 0, 0, 0, 0, 0]\n",
      "E [0, 1, 0, 0, 0, 0, 0, 0, 0]\n",
      "F [0, 1, 0, 0, 0, 0, 0, 1, 0]\n",
      "G [0, 0, 1, 0, 0, 0, 0, 0, 1]\n",
      "H [0, 0, 0, 0, 0, 1, 0, 0, 0]\n",
      "I [0, 0, 0, 0, 0, 0, 1, 0, 0]\n",
      "['A', 'B', 'C', 'D', 'E', 'F', 'G', 'H', 'I']\n",
      "graph is bipartite: True\n",
      "graph has cycle: False\n"
     ]
    }
   ],
   "source": [
    "# Creating a graph with 4 vertices\n",
    "my_graph = Graph(9)\n",
    "\n",
    "# Adding edges\n",
    "my_graph.add_edge(0, 1)\n",
    "my_graph.add_edge(0, 2)\n",
    "my_graph.add_edge(1, 3)\n",
    "my_graph.add_edge(1, 4)\n",
    "my_graph.add_edge(1, 5)\n",
    "my_graph.add_edge(2, 6)\n",
    "my_graph.add_edge(5, 7)\n",
    "my_graph.add_edge(6, 8)\n",
    "\n",
    "# Printing the adjacency matrix\n",
    "my_graph.display()\n",
    "print(my_graph.bfs(0))\n",
    "print('graph is bipartite:', my_graph.is_bipartite())\n",
    "print('graph has cycle:', my_graph.has_cycle())"
   ]
  },
  {
   "cell_type": "code",
   "execution_count": 5,
   "metadata": {},
   "outputs": [
    {
     "name": "stdout",
     "output_type": "stream",
     "text": [
      "   A  B  C  D  E  F  G  H  I  J  K  \n",
      "A [0, 1, 1, 0, 0, 0, 0, 0, 0, 0, 0]\n",
      "B [1, 0, 0, 1, 1, 1, 0, 0, 0, 0, 0]\n",
      "C [1, 0, 0, 0, 0, 0, 1, 0, 0, 0, 0]\n",
      "D [0, 1, 0, 0, 0, 0, 0, 0, 0, 0, 0]\n",
      "E [0, 1, 0, 0, 0, 0, 0, 0, 0, 0, 0]\n",
      "F [0, 1, 0, 0, 0, 0, 0, 1, 0, 0, 0]\n",
      "G [0, 0, 1, 0, 0, 0, 0, 0, 1, 0, 0]\n",
      "H [0, 0, 0, 0, 0, 1, 0, 0, 0, 0, 0]\n",
      "I [0, 0, 0, 0, 0, 0, 1, 0, 0, 0, 0]\n",
      "J [0, 0, 0, 0, 0, 0, 0, 0, 0, 0, 1]\n",
      "K [0, 0, 0, 0, 0, 0, 0, 0, 0, 1, 0]\n",
      "graph is bipartite: True\n",
      "graph has cycle: False\n"
     ]
    }
   ],
   "source": [
    "# Creating a graph with 4 vertices\n",
    "my_graph = Graph(11)\n",
    "\n",
    "# Adding edges\n",
    "my_graph.add_edge(0, 1)\n",
    "my_graph.add_edge(0, 2)\n",
    "my_graph.add_edge(1, 3)\n",
    "my_graph.add_edge(1, 4)\n",
    "my_graph.add_edge(1, 5)\n",
    "my_graph.add_edge(2, 6)\n",
    "my_graph.add_edge(5, 7)\n",
    "my_graph.add_edge(6, 8)\n",
    "my_graph.add_edge(9, 10)\n",
    "\n",
    "# Printing the adjacency matrix\n",
    "my_graph.display()\n",
    "print('graph is bipartite:', my_graph.is_bipartite())\n",
    "print('graph has cycle:', my_graph.has_cycle())"
   ]
  },
  {
   "cell_type": "code",
   "execution_count": 6,
   "metadata": {},
   "outputs": [
    {
     "name": "stdout",
     "output_type": "stream",
     "text": [
      "   A  B  C  D  E  F  G  H  I  J  K  \n",
      "A [0, 1, 1, 1, 0, 0, 0, 0, 0, 0, 0]\n",
      "B [1, 0, 0, 1, 1, 1, 0, 0, 0, 0, 0]\n",
      "C [1, 0, 0, 0, 0, 0, 1, 0, 0, 0, 0]\n",
      "D [1, 1, 0, 0, 0, 0, 0, 0, 0, 0, 0]\n",
      "E [0, 1, 0, 0, 0, 0, 0, 0, 0, 0, 0]\n",
      "F [0, 1, 0, 0, 0, 0, 0, 1, 0, 0, 0]\n",
      "G [0, 0, 1, 0, 0, 0, 0, 0, 1, 0, 0]\n",
      "H [0, 0, 0, 0, 0, 1, 0, 0, 0, 0, 0]\n",
      "I [0, 0, 0, 0, 0, 0, 1, 0, 0, 0, 0]\n",
      "J [0, 0, 0, 0, 0, 0, 0, 0, 0, 0, 1]\n",
      "K [0, 0, 0, 0, 0, 0, 0, 0, 0, 1, 0]\n",
      "graph is bipartite: False\n",
      "graph has cycle: True\n"
     ]
    }
   ],
   "source": [
    "# Creating a graph with 4 vertices\n",
    "my_graph = Graph(11)\n",
    "\n",
    "# Adding edges\n",
    "my_graph.add_edge(0, 1)\n",
    "my_graph.add_edge(0, 2)\n",
    "my_graph.add_edge(1, 3)\n",
    "my_graph.add_edge(1, 4)\n",
    "my_graph.add_edge(1, 5)\n",
    "my_graph.add_edge(2, 6)\n",
    "my_graph.add_edge(5, 7)\n",
    "my_graph.add_edge(6, 8)\n",
    "my_graph.add_edge(9, 10)\n",
    "my_graph.add_edge(3, 0)\n",
    "\n",
    "# Printing the adjacency matrix\n",
    "my_graph.display()\n",
    "print('graph is bipartite:', my_graph.is_bipartite())\n",
    "print('graph has cycle:', my_graph.has_cycle())"
   ]
  },
  {
   "cell_type": "markdown",
   "metadata": {},
   "source": [
    "# dfs"
   ]
  },
  {
   "cell_type": "code",
   "execution_count": 7,
   "metadata": {},
   "outputs": [],
   "source": [
    "# graph = {\n",
    "#   'A' : ['B','G'],\n",
    "#   'B' : ['C', 'D', 'E'],\n",
    "#   'C' : [],\n",
    "#   'D' : [],\n",
    "#   'E' : ['F'],\n",
    "#   'F' : [],\n",
    "#   'G' : ['H'],\n",
    "#   'H' : ['I'],\n",
    "#   'I' : [],\n",
    "# }"
   ]
  },
  {
   "cell_type": "code",
   "execution_count": 8,
   "metadata": {},
   "outputs": [
    {
     "name": "stdout",
     "output_type": "stream",
     "text": [
      "   A  B  C  D  E  F  G  H  I  \n",
      "A [0, 1, 0, 0, 0, 0, 1, 0, 0]\n",
      "B [1, 0, 1, 1, 1, 0, 0, 0, 0]\n",
      "C [0, 1, 0, 0, 0, 0, 0, 0, 0]\n",
      "D [0, 1, 0, 0, 0, 0, 0, 0, 0]\n",
      "E [0, 1, 0, 0, 0, 1, 0, 0, 0]\n",
      "F [0, 0, 0, 0, 1, 0, 0, 0, 0]\n",
      "G [1, 0, 0, 0, 0, 0, 0, 1, 0]\n",
      "H [0, 0, 0, 0, 0, 0, 1, 0, 1]\n",
      "I [0, 0, 0, 0, 0, 0, 0, 1, 0]\n",
      "['A', 'B', 'C', 'D', 'E', 'F', 'G', 'H', 'I']\n",
      "['A', 'B', 'C', 'D', 'E', 'F', 'G', 'H', 'I']\n"
     ]
    }
   ],
   "source": [
    "# Example usage:\n",
    "my_graph = Graph(9)\n",
    "\n",
    "my_graph.add_edge(0, 1)\n",
    "my_graph.add_edge(0, 6)\n",
    "my_graph.add_edge(1, 2)\n",
    "my_graph.add_edge(1, 3)\n",
    "my_graph.add_edge(1, 4)\n",
    "my_graph.add_edge(4, 5)\n",
    "my_graph.add_edge(6, 7)\n",
    "my_graph.add_edge(7, 8)\n",
    "my_graph.display()\n",
    "\n",
    "print(my_graph.dfs_iterative(0))\n",
    "print(my_graph.dfs_recursive(0))"
   ]
  },
  {
   "cell_type": "code",
   "execution_count": null,
   "metadata": {},
   "outputs": [],
   "source": []
  }
 ],
 "metadata": {
  "kernelspec": {
   "display_name": "base",
   "language": "python",
   "name": "python3"
  },
  "language_info": {
   "codemirror_mode": {
    "name": "ipython",
    "version": 3
   },
   "file_extension": ".py",
   "mimetype": "text/x-python",
   "name": "python",
   "nbconvert_exporter": "python",
   "pygments_lexer": "ipython3",
   "version": "3.9.7"
  }
 },
 "nbformat": 4,
 "nbformat_minor": 2
}
