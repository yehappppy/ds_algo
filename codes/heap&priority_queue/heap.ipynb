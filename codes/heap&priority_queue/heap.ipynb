{
 "cells": [
  {
   "cell_type": "code",
   "execution_count": 13,
   "metadata": {},
   "outputs": [],
   "source": [
    "class MaxHeap:\n",
    "    def __init__(self, heap=[]):\n",
    "        self.heap = heap # one-indexed\n",
    "        self.bulid_max_heap() \n",
    "    \n",
    "    def insert(self, value):\n",
    "        self.heap.append(value)\n",
    "        self._sift_up(len(self.heap))\n",
    "\n",
    "    def _sift_up(self, i):\n",
    "        parent = i // 2\n",
    "        if parent - 1 >= 0 and self.heap[parent - 1] < self.heap[i - 1]:\n",
    "            self.heap[parent -1], self.heap[i - 1] = \\\n",
    "                self.heap[i - 1], self.heap[parent - 1]\n",
    "            self._sift_up(parent)\n",
    "\n",
    "    def get_max(self):\n",
    "        return self.heap[0] if self.heap else None\n",
    "\n",
    "    def get_size(self):\n",
    "        return len(self.heap)\n",
    "    \n",
    "    def is_empty(self):\n",
    "        return True if not self.heap else False\n",
    "    \n",
    "    def extract_max(self):\n",
    "        self.heap[0], self.heap[-1] = self.heap[-1], self.heap[0]\n",
    "        max_value = self.heap.pop()\n",
    "        self._sift_down(1)\n",
    "        return max_value\n",
    "    \n",
    "    def _sift_down(self, i):\n",
    "        largest = i\n",
    "        left = 2*i\n",
    "        right = 2*i + 1\n",
    "        if left <= len(self.heap) and self.heap[largest - 1] < self.heap[left - 1]:\n",
    "            largest = left\n",
    "        if right <= len(self.heap) and self.heap[largest - 1] < self.heap[right - 1]:\n",
    "            largest = right\n",
    "        if largest != i:\n",
    "            self.heap[i - 1], self.heap[largest - 1] = \\\n",
    "                self.heap[largest - 1], self.heap[i - 1]\n",
    "            self._sift_down(largest)\n",
    "        \n",
    "    def update(self, i, new_value):\n",
    "        if i - 1 >= 0 and i - 1 <= len(self.heap) - 1:\n",
    "            self.heap[i - 1] = new_value\n",
    "            parent = i // 2\n",
    "            if parent - 1 >= 0 and self.heap[parent - 1] < new_value:\n",
    "                self._sift_up(i)\n",
    "            else:\n",
    "                self._sift_down(i)\n",
    "                \n",
    "    def remove(self, i):\n",
    "        if i >= 1 and i <= len(self.heap):\n",
    "            self.heap[i - 1], self.heap[-1] = \\\n",
    "                self.heap[-1], self.heap[i - 1]\n",
    "            self.heap.pop()\n",
    "            self._sift_down(i)\n",
    "                \n",
    "    def max_heapify(self, heap_size, i):\n",
    "        # heapify requires a nearly MaxHeap except for one exception\n",
    "        # assume for index i, left and right children are MaxHeap\n",
    "        # time complexity: O(logn)\n",
    "        largest = i\n",
    "        left = 2*i\n",
    "        right = 2*i + 1\n",
    "        if left <= heap_size and self.heap[largest - 1] < self.heap[left - 1]:\n",
    "            largest = left\n",
    "        if right <= heap_size and self.heap[largest - 1] < self.heap[right - 1]:\n",
    "            largest = right\n",
    "        if largest != i:\n",
    "            self.heap[i - 1], self.heap[largest - 1] = \\\n",
    "                self.heap[largest - 1], self.heap[i - 1]\n",
    "            self.max_heapify(heap_size, largest)\n",
    "    \n",
    "    def bulid_max_heap(self):\n",
    "        # bottom up method takes O(n) while top down takes O(nlogn)\n",
    "        heap_size = len(self.heap)\n",
    "        for i in range(heap_size // 2, 0, -1):\n",
    "            self.max_heapify(heap_size, i)\n",
    "        \n",
    "    def heap_sort(self):\n",
    "        # time complexity: O(nlogn)\n",
    "        for i in range(len(self.heap), 1, -1):\n",
    "            self.heap[0], self.heap[i - 1] = self.heap[i - 1], self.heap[0]\n",
    "            self.max_heapify(i - 1, 1)"
   ]
  },
  {
   "cell_type": "code",
   "execution_count": 14,
   "metadata": {},
   "outputs": [
    {
     "name": "stdout",
     "output_type": "stream",
     "text": [
      "heap: [65, 9, 53, 6, 7, 0, 5, 3, 1, 6, 4]\n",
      "heap: [100, 9, 65, 6, 7, 53, 5, 3, 1, 6, 4, 0]\n",
      "max: 100\n",
      "size: 12\n",
      "empty: False\n",
      "max: 100\n",
      "heap: [65, 9, 53, 6, 7, 0, 5, 3, 1, 6, 4]\n",
      "heap: [100, 65, 53, 9, 7, 0, 5, 3, 1, 6, 4]\n",
      "heap: [100, 65, 53, 9, 6, 0, 5, 3, 1, 4]\n",
      "sort: [0, 1, 3, 4, 5, 6, 9, 53, 65, 100]\n",
      "heap: [100, 65, 9, 53, 5, 6, 3, 0, 4, 1]\n"
     ]
    }
   ],
   "source": [
    "my_heap = MaxHeap([5,4,65,1,6,0,53,3,6,9,7])\n",
    "print('heap:', my_heap.heap)\n",
    "my_heap.insert(100)\n",
    "print('heap:', my_heap.heap)\n",
    "print('max:', my_heap.get_max())\n",
    "print('size:', my_heap.get_size())\n",
    "print('empty:', my_heap.is_empty())\n",
    "print('max:', my_heap.extract_max())\n",
    "print('heap:', my_heap.heap)\n",
    "my_heap.update(4, 100)\n",
    "print('heap:', my_heap.heap)\n",
    "my_heap.remove(5)\n",
    "print('heap:', my_heap.heap)\n",
    "my_heap.heap_sort()\n",
    "print('sort:', my_heap.heap)\n",
    "my_heap.bulid_max_heap()\n",
    "print('heap:', my_heap.heap)"
   ]
  },
  {
   "cell_type": "code",
   "execution_count": 15,
   "metadata": {},
   "outputs": [],
   "source": [
    "class PriorityQueue:\n",
    "    def __init__(self, queue=[]):\n",
    "        self.queue = MaxHeap(queue) # larger value, higher priority\n",
    "    \n",
    "    def push(self, value):\n",
    "        self.queue.insert(value)\n",
    "    \n",
    "    def pop(self):\n",
    "        return self.queue.extract_max()\n",
    "    \n",
    "    def display(self):\n",
    "        return self.queue.heap"
   ]
  },
  {
   "cell_type": "code",
   "execution_count": 16,
   "metadata": {},
   "outputs": [
    {
     "name": "stdout",
     "output_type": "stream",
     "text": [
      "queue: [65, 9, 53, 6, 7, 0, 5, 3, 1, 6, 4]\n",
      "65\n",
      "queue: [53, 9, 5, 6, 7, 0, 4, 3, 1, 6]\n",
      "queue: [53, 44, 5, 6, 9, 0, 4, 3, 1, 6, 7]\n",
      "53\n",
      "queue: [44, 9, 5, 6, 7, 0, 4, 3, 1, 6]\n"
     ]
    }
   ],
   "source": [
    "my_queue = PriorityQueue([5,4,65,1,6,0,53,3,6,9,7])\n",
    "print('queue:', my_queue.display())\n",
    "print(my_queue.pop())\n",
    "print('queue:', my_queue.display())\n",
    "my_queue.push(44)\n",
    "print('queue:', my_queue.display())\n",
    "print(my_queue.pop())\n",
    "print('queue:', my_queue.display())"
   ]
  },
  {
   "cell_type": "code",
   "execution_count": null,
   "metadata": {},
   "outputs": [],
   "source": []
  }
 ],
 "metadata": {
  "kernelspec": {
   "display_name": "base",
   "language": "python",
   "name": "python3"
  },
  "language_info": {
   "codemirror_mode": {
    "name": "ipython",
    "version": 3
   },
   "file_extension": ".py",
   "mimetype": "text/x-python",
   "name": "python",
   "nbconvert_exporter": "python",
   "pygments_lexer": "ipython3",
   "version": "3.9.7"
  }
 },
 "nbformat": 4,
 "nbformat_minor": 2
}
